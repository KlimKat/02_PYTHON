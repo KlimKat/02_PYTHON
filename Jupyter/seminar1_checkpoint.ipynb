{
 "cells": [
  {
   "cell_type": "markdown",
   "id": "e46e7529",
   "metadata": {},
   "source": [
    "## Задание 1"
   ]
  },
  {
   "cell_type": "markdown",
   "id": "36046460",
   "metadata": {},
   "source": [
    "### 1.1 Соедините два словаря в один"
   ]
  },
  {
   "cell_type": "code",
   "execution_count": 15,
   "id": "21c4052f",
   "metadata": {},
   "outputs": [],
   "source": [
    "dict1 = {'One': 1, 'Two': 2, 'Three': 3}\n",
    "dict2 = {'Four': 4, 'Five': 5, 'Six': 6}"
   ]
  },
  {
   "cell_type": "code",
   "execution_count": 6,
   "id": "e49ef3b2",
   "metadata": {},
   "outputs": [
    {
     "data": {
      "text/plain": [
       "{'One': 1, 'Two': 2, 'Three': 3, 'Four': 4, 'Five': 5, 'Six': 6}"
      ]
     },
     "execution_count": 6,
     "metadata": {},
     "output_type": "execute_result"
    }
   ],
   "source": [
    "z = dict(list(dict1.items()) + list(dict2.items()))\n",
    "z"
   ]
  },
  {
   "cell_type": "code",
   "execution_count": 8,
   "id": "1eba707a",
   "metadata": {},
   "outputs": [
    {
     "data": {
      "text/plain": [
       "{'One': 1, 'Two': 2, 'Three': 3, 'Four': 4, 'Five': 5, 'Six': 6}"
      ]
     },
     "execution_count": 8,
     "metadata": {},
     "output_type": "execute_result"
    }
   ],
   "source": [
    "dict1 | dict2"
   ]
  },
  {
   "cell_type": "code",
   "execution_count": 9,
   "id": "a662e05c",
   "metadata": {},
   "outputs": [
    {
     "data": {
      "text/plain": [
       "{'One': 1, 'Two': 2, 'Three': 3, 'Four': 4, 'Five': 5, 'Six': 6}"
      ]
     },
     "execution_count": 9,
     "metadata": {},
     "output_type": "execute_result"
    }
   ],
   "source": [
    "{**dict1, **dict2}"
   ]
  },
  {
   "cell_type": "code",
   "execution_count": 11,
   "id": "4a7520f4",
   "metadata": {},
   "outputs": [
    {
     "data": {
      "text/plain": [
       "{'One': 1, 'Two': 2, 'Three': 3, 'Four': 4, 'Five': 5, 'Six': 6}"
      ]
     },
     "execution_count": 11,
     "metadata": {},
     "output_type": "execute_result"
    }
   ],
   "source": [
    "dict1.update(dict2)\n",
    "dict1"
   ]
  },
  {
   "cell_type": "markdown",
   "id": "afc1c232",
   "metadata": {},
   "source": [
    "### 1.2 Напишите функцию, которая на вход принимает два словаря и возвращает один объединенный словарь\n",
    "Используйте аннотирование типов"
   ]
  },
  {
   "cell_type": "code",
   "execution_count": 16,
   "id": "05492044",
   "metadata": {},
   "outputs": [
    {
     "data": {
      "text/plain": [
       "{'One': 1, 'Two': 2, 'Three': 3, 'Four': 4, 'Five': 5, 'Six': 6}"
      ]
     },
     "execution_count": 16,
     "metadata": {},
     "output_type": "execute_result"
    }
   ],
   "source": [
    "from typing import List, Dict\n",
    "def plus(one: Dict, two: Dict) -> dict:\n",
    "    return one|two\n",
    "plus(dict1, dict2)"
   ]
  },
  {
   "cell_type": "markdown",
   "id": "bb24a0fd",
   "metadata": {},
   "source": [
    "## Задание 2\n",
    "Напишите функцию, которая из двух списков, делает один словарь, где элементы из первого списка - ключи, а элементы из второго списка - значения\n",
    "Используйте аннотирование типов"
   ]
  },
  {
   "cell_type": "markdown",
   "id": "98b14b7c",
   "metadata": {},
   "source": [
    "### 2.1 Используя цикл for"
   ]
  },
  {
   "cell_type": "code",
   "execution_count": 19,
   "id": "bcce8baa",
   "metadata": {},
   "outputs": [],
   "source": [
    "keys = ['One', 'Two', 'Three']\n",
    "values = [1, 2, 3]"
   ]
  },
  {
   "cell_type": "code",
   "execution_count": 22,
   "id": "266600eb",
   "metadata": {},
   "outputs": [
    {
     "data": {
      "text/plain": [
       "{'One': 1, 'Two': 2, 'Three': 3}"
      ]
     },
     "execution_count": 22,
     "metadata": {},
     "output_type": "execute_result"
    }
   ],
   "source": [
    "def create_dict(keys, values):\n",
    "    new_dict = {}\n",
    "    for i in range(len(keys)):\n",
    "        new_dict[keys[i]] = values[i]\n",
    "    return new_dict\n",
    "\n",
    "create_dict(keys, values)"
   ]
  },
  {
   "cell_type": "markdown",
   "id": "5a728b7a",
   "metadata": {},
   "source": [
    "### 2.2 Используя dict comprehensions"
   ]
  },
  {
   "cell_type": "code",
   "execution_count": 24,
   "id": "e10eb875",
   "metadata": {},
   "outputs": [
    {
     "data": {
      "text/plain": [
       "{'One': 1, 'Two': 2, 'Three': 3}"
      ]
     },
     "execution_count": 24,
     "metadata": {},
     "output_type": "execute_result"
    }
   ],
   "source": [
    "dict = {keys[i]: values[i] for i in range(len(keys))}\n",
    "dict"
   ]
  },
  {
   "cell_type": "markdown",
   "id": "ae74a20b",
   "metadata": {},
   "source": [
    "## Задание 3\n",
    "Извлеките только два ключа name и age из представленного словаря"
   ]
  },
  {
   "cell_type": "code",
   "execution_count": 2,
   "id": "2fd878ec",
   "metadata": {},
   "outputs": [],
   "source": [
    "client_dict = {\n",
    "\"name\": \"John\",\n",
    "\"age\": 25,\n",
    "\"salary\": 5000,\n",
    "\"city\": \"Moscow\"\n",
    "}"
   ]
  },
  {
   "cell_type": "markdown",
   "id": "b9456c27",
   "metadata": {},
   "source": [
    "### 3.1 Напишите функцию с циклом for\n",
    "Функция на вход принимает:\n",
    "исходный словарь\n",
    "ключи, которые нужно извлечь (аргумент по умолчанию)\n",
    "На выходе словарь с нужными ключами\n",
    "Используйте аннотирование типов"
   ]
  },
  {
   "cell_type": "code",
   "execution_count": 4,
   "id": "4cd8cc73",
   "metadata": {},
   "outputs": [
    {
     "data": {
      "text/plain": [
       "{'name': 'John', 'age': 25}"
      ]
     },
     "execution_count": 4,
     "metadata": {},
     "output_type": "execute_result"
    }
   ],
   "source": [
    "def choice(client, keys = [\"name\", \"age\"]):\n",
    "    new_dict = {}\n",
    "    for key in keys:\n",
    "        if key in client.keys():\n",
    "            new_dict[key] = client[key]\n",
    "    return new_dict\n",
    "choice(client_dict)"
   ]
  },
  {
   "cell_type": "code",
   "execution_count": 10,
   "id": "1565d43b",
   "metadata": {},
   "outputs": [
    {
     "data": {
      "text/plain": [
       "{'name': 'John', 'age': 25}"
      ]
     },
     "execution_count": 10,
     "metadata": {},
     "output_type": "execute_result"
    }
   ],
   "source": [
    "def choice2(client, keys = [\"name\", \"age\"]):\n",
    "    new_dict = {}\n",
    "    for key in keys:\n",
    "        if key in client.keys():\n",
    "            new_dict.update({key : client[key]})\n",
    "    return new_dict\n",
    "choice2(client_dict)"
   ]
  },
  {
   "cell_type": "markdown",
   "id": "6231d31f",
   "metadata": {},
   "source": [
    "### 3.2 Используя dict comprehensions"
   ]
  },
  {
   "cell_type": "code",
   "execution_count": 11,
   "id": "f9b651d5",
   "metadata": {},
   "outputs": [
    {
     "data": {
      "text/plain": [
       "{'name': 'John', 'age': 25}"
      ]
     },
     "execution_count": 11,
     "metadata": {},
     "output_type": "execute_result"
    }
   ],
   "source": [
    "def choice3(client: dict, keys: list = [\"name\", \"age\", \"1\"]) -> dict:\n",
    "    return {key : client.get(key) for key in keys if client.get(key)}\n",
    "choice3(client_dict)"
   ]
  },
  {
   "cell_type": "markdown",
   "id": "7f14541a",
   "metadata": {},
   "source": [
    "## Задание 4"
   ]
  },
  {
   "cell_type": "markdown",
   "id": "b3e8e6b0",
   "metadata": {},
   "source": [
    "### 4.1 Сгенерируйте случайные целые числа от 0 до 100 в количестве 5 штук с помощью модуля random\n",
    "Зафиксируйте псевдогенерацию, чтобы сгенерированные значения всегда были одинаковые\n",
    "Используйте list comprehensions"
   ]
  },
  {
   "cell_type": "code",
   "execution_count": 19,
   "id": "4001a466",
   "metadata": {},
   "outputs": [],
   "source": [
    "import random\n",
    "\n",
    "random.seed(100)\n",
    "list_1 = [random.randint(0, 100) for _ in range(5)]"
   ]
  },
  {
   "cell_type": "markdown",
   "id": "594ba32d",
   "metadata": {},
   "source": [
    "### 4.2* Напишите генератор\n",
    "Генератор на вход принимает список с данными о клиенте (данные из пункта 4.1)\n",
    "Внутри генератора реализуйте обход по списку с данными\n",
    "На каждой итерации генератор будет возвращать кортеж из двух элементов:\n",
    "данные по клиенту (в зависимости от итерации, на 0 итерации вернется 0 элемент, на 1 итерации вернется 1 элемент и тд)\n",
    "целочисленное значение, которое показывает, сколько секунд прошло с предыдущей итерации\n",
    "Примечание: секунды, которые возвращаются должны показывать время не с начала запуска генератора, а именно то время, которое прошло с предыдущей итерации. А значит время на первой итерации должно равняться 0.\n",
    "Используйте функцию time из модуля time для подсчета времени.\n",
    "Чтобы проверить работу таймера, запустите проход по генератору в цикле с time.sleep(2)"
   ]
  },
  {
   "cell_type": "code",
   "execution_count": 7,
   "id": "c966cf54",
   "metadata": {},
   "outputs": [
    {
     "name": "stdout",
     "output_type": "stream",
     "text": [
      "начало функции: \n",
      "Начало цикла\n",
      "1 11\n",
      "сейчас будет первый оператор yeild\n",
      "1) результат функции:  (1, 11)\n",
      "\n",
      "только что был первый оператор yeild\n",
      "сейчас будет второй оператор yeild\n",
      "2) результат функции:  (1, 11)\n",
      "\n",
      "только что был второй оператор yeild\n",
      "Начало цикла\n",
      "2 22\n",
      "сейчас будет первый оператор yeild\n",
      "3) результат функции:  (2, 22)\n",
      "\n",
      "только что был первый оператор yeild\n",
      "сейчас будет второй оператор yeild\n",
      "4) результат функции:  (2, 22)\n",
      "\n",
      "только что был второй оператор yeild\n",
      "Начало цикла\n",
      "3 33\n",
      "сейчас будет первый оператор yeild\n",
      "5) результат функции:  (3, 33)\n",
      "\n",
      "только что был первый оператор yeild\n",
      "сейчас будет второй оператор yeild\n",
      "6) результат функции:  (3, 33)\n",
      "\n",
      "только что был второй оператор yeild\n"
     ]
    },
    {
     "ename": "StopIteration",
     "evalue": "",
     "output_type": "error",
     "traceback": [
      "\u001b[1;31m---------------------------------------------------------------------------\u001b[0m",
      "\u001b[1;31mStopIteration\u001b[0m                             Traceback (most recent call last)",
      "\u001b[1;32m~\\AppData\\Local\\Temp\\ipykernel_23288\\551240761.py\u001b[0m in \u001b[0;36m<module>\u001b[1;34m\u001b[0m\n\u001b[0;32m     26\u001b[0m \u001b[0mprint\u001b[0m\u001b[1;33m(\u001b[0m\u001b[1;34m'6) результат функции: '\u001b[0m\u001b[1;33m,\u001b[0m \u001b[0mnext\u001b[0m\u001b[1;33m(\u001b[0m\u001b[0mprobka\u001b[0m\u001b[1;33m)\u001b[0m\u001b[1;33m)\u001b[0m\u001b[1;33m\u001b[0m\u001b[1;33m\u001b[0m\u001b[0m\n\u001b[0;32m     27\u001b[0m \u001b[0mprint\u001b[0m\u001b[1;33m(\u001b[0m\u001b[1;33m)\u001b[0m\u001b[1;33m\u001b[0m\u001b[1;33m\u001b[0m\u001b[0m\n\u001b[1;32m---> 28\u001b[1;33m \u001b[0mprint\u001b[0m\u001b[1;33m(\u001b[0m\u001b[1;34m'7) результат функции: '\u001b[0m\u001b[1;33m,\u001b[0m \u001b[0mnext\u001b[0m\u001b[1;33m(\u001b[0m\u001b[0mprobka\u001b[0m\u001b[1;33m)\u001b[0m\u001b[1;33m)\u001b[0m\u001b[1;33m\u001b[0m\u001b[1;33m\u001b[0m\u001b[0m\n\u001b[0m",
      "\u001b[1;31mStopIteration\u001b[0m: "
     ]
    }
   ],
   "source": [
    "def my_func(d):\n",
    "    print('начало функции: ')\n",
    "    for i in d:\n",
    "        print('Начало цикла')\n",
    "        print(i, d[i])\n",
    "        print('сейчас будет первый оператор yeild')\n",
    "        yield i, d[i]\n",
    "        print('только что был первый оператор yeild')\n",
    "        print('сейчас будет второй оператор yeild')\n",
    "        yield i, d[i]\n",
    "        print('только что был второй оператор yeild')\n",
    "\n",
    "\n",
    "d = {1: 11, 2: 22, 3: 33}\n",
    "probka = my_func(d)\n",
    "print('1) результат функции: ', next(probka))\n",
    "print()\n",
    "print('2) результат функции: ', next(probka))\n",
    "print()\n",
    "print('3) результат функции: ', next(probka))\n",
    "print()\n",
    "print('4) результат функции: ', next(probka))\n",
    "print()\n",
    "print('5) результат функции: ', next(probka))\n",
    "print()\n",
    "print('6) результат функции: ', next(probka))\n",
    "print()\n",
    "print('7) результат функции: ', next(probka))"
   ]
  },
  {
   "cell_type": "code",
   "execution_count": 22,
   "id": "6065c0ec",
   "metadata": {},
   "outputs": [
    {
     "name": "stdout",
     "output_type": "stream",
     "text": [
      "1 goo: (18, 0)\n",
      "2 goo: (58, 2)\n",
      "3 goo: (58, 2)\n",
      "4 goo: (98, 2)\n",
      "5 goo: (22, 2)\n"
     ]
    }
   ],
   "source": [
    "import time\n",
    "\n",
    "def clients(some_list: List):\n",
    "    prev_time = time.time()\n",
    "    for client in some_list:\n",
    "        current_time = time.time()\n",
    "        yield client, int(current_time - prev_time)\n",
    "        prev_time = current_time\n",
    "        \n",
    "generator = clients(list_1)\n",
    "\n",
    "for i in range(len(list_1)):\n",
    "    print(i + 1, 'goo:', next(generator))\n",
    "    time.sleep(2)"
   ]
  },
  {
   "cell_type": "markdown",
   "id": "e881e033",
   "metadata": {},
   "source": [
    "## Задание 5"
   ]
  },
  {
   "cell_type": "markdown",
   "id": "7ef7d262",
   "metadata": {},
   "source": [
    "### 5.1 Найдите картинку в интернете и прикрепите её в ячейку с текстом"
   ]
  },
  {
   "cell_type": "markdown",
   "id": "32bc55b7",
   "metadata": {},
   "source": [
    "<img src='https://n1s1.hsmedia.ru/08/3b/7b/083b7b5df962ba8b147184b42736fa44/1000x600_0xac120003_13313727451634118091.png'>"
   ]
  },
  {
   "cell_type": "markdown",
   "id": "f8a54747",
   "metadata": {},
   "source": [
    "## 5.2 Создайте следующую таблицу в ячейке с текстом"
   ]
  },
  {
   "cell_type": "markdown",
   "id": "41afa7df",
   "metadata": {},
   "source": [
    "<table>\n",
    "    <tr>\n",
    "        <td>1 контррольная точка</td>\n",
    "        <td>500</td>\n",
    "    </tr>\n",
    "     <tr>\n",
    "        <td>2 контррольная точка</td>\n",
    "        <td>200</td>\n",
    "    </tr>\n",
    "     <tr>\n",
    "        <td>3 контррольная точка</td>\n",
    "        <td>400</td>\n",
    "    </tr>\n",
    "     <tr>\n",
    "        <td>4 контррольная точка</td>\n",
    "        <td>5500</td>\n",
    "    </tr>\n",
    "</table>"
   ]
  },
  {
   "cell_type": "markdown",
   "id": "5be8a240",
   "metadata": {},
   "source": [
    "| | до события | во время события |\n",
    "|--------- |------------ |------------------ |\n",
    "| 1 точка | 250 | 500 |\n",
    "| 2 точка | 4556 | 4545 |\n",
    "| 3 точка | 456656 | 45645 |\n",
    "| **итого** | 6547 | 165 |"
   ]
  },
  {
   "cell_type": "markdown",
   "id": "4cc5d210",
   "metadata": {},
   "source": [
    "## Задание 6"
   ]
  },
  {
   "cell_type": "markdown",
   "id": "a5680668",
   "metadata": {},
   "source": [
    "### Напишите функцию, которая может принимать любое количество трат пользователя и считать сумму и среднее.\n",
    "На вход поступают целочисленные значения в любом количестве\n",
    "На выходе словарь с ключами суммы трат и средней траты"
   ]
  },
  {
   "cell_type": "code",
   "execution_count": 34,
   "id": "c72da78e",
   "metadata": {},
   "outputs": [
    {
     "data": {
      "text/plain": [
       "{'sum': 15, 'mean': 3.0}"
      ]
     },
     "execution_count": 34,
     "metadata": {},
     "output_type": "execute_result"
    }
   ],
   "source": [
    "import numpy as np\n",
    "def data(*args):\n",
    "    return {'sum': sum(args), 'mean': np.mean(args)}\n",
    "data(1, 2, 3, 4, 5)"
   ]
  },
  {
   "cell_type": "code",
   "execution_count": null,
   "id": "6e5315d0",
   "metadata": {},
   "outputs": [],
   "source": []
  }
 ],
 "metadata": {
  "kernelspec": {
   "display_name": "Python 3 (ipykernel)",
   "language": "python",
   "name": "python3"
  },
  "language_info": {
   "codemirror_mode": {
    "name": "ipython",
    "version": 3
   },
   "file_extension": ".py",
   "mimetype": "text/x-python",
   "name": "python",
   "nbconvert_exporter": "python",
   "pygments_lexer": "ipython3",
   "version": "3.9.13"
  }
 },
 "nbformat": 4,
 "nbformat_minor": 5
}
